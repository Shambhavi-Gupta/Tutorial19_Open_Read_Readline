{
  "nbformat": 4,
  "nbformat_minor": 0,
  "metadata": {
    "colab": {
      "name": "Tutorial19_Open_Read_Readline.ipynb",
      "provenance": [],
      "authorship_tag": "ABX9TyMWRvzZ+7rJag7e0JO31ybD",
      "include_colab_link": true
    },
    "kernelspec": {
      "name": "python3",
      "display_name": "Python 3"
    }
  },
  "cells": [
    {
      "cell_type": "markdown",
      "metadata": {
        "id": "view-in-github",
        "colab_type": "text"
      },
      "source": [
        "<a href=\"https://colab.research.google.com/github/Shambhavi-Gupta/Tutorial19_Open_Read_Readline/blob/main/Tutorial19_Open_Read_Readline.ipynb\" target=\"_parent\"><img src=\"https://colab.research.google.com/assets/colab-badge.svg\" alt=\"Open In Colab\"/></a>"
      ]
    },
    {
      "cell_type": "code",
      "metadata": {
        "id": "FRtiY1W_njOA"
      },
      "source": [
        "#f = open(\"write.txt\") #rt is the default mode\r\n",
        "f=open(\"write.txt\" , \"r\") #then \"rb\"\r\n",
        "#f function returns the file pointer\r\n",
        "#content = f.read() #f.read(3)  #use(3344)\r\n",
        "#print(content)\r\n",
        "\r\n",
        "# print(f.readline())\r\n",
        "#print(f.readline())\r\n",
        "print(f.readlines())\r\n",
        "f.close()#if you open a file then you must close the file\r\n"
      ],
      "execution_count": null,
      "outputs": []
    }
  ]
}